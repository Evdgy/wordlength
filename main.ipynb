{
 "cells": [
  {
   "cell_type": "code",
   "execution_count": null,
   "id": "c9842c40-ae9a-45a8-a165-c97d7aff04c3",
   "metadata": {},
   "outputs": [],
   "source": [
    "# записали название файла с текстом\n",
    "filename = \"input.txt\""
   ]
  },
  {
   "cell_type": "code",
   "execution_count": 2,
   "id": "36176b22",
   "metadata": {},
   "outputs": [],
   "source": [
    "# переменная для всех слов тексте\n",
    "words = []\n",
    "\n",
    "# переменная для всех очищенных слов\n",
    "purified_words = []\n",
    "\n",
    "# переменная для символов, от которых надо очистить слова\n",
    "extra_symbols = [\",\", \".\", \"?\", \"«\", \":\", \"»\", \";\", \"(\", \")\", \"!\"]"
   ]
  },
  {
   "cell_type": "code",
   "execution_count": 3,
   "id": "8f7e4760",
   "metadata": {},
   "outputs": [],
   "source": [
    "# прочитали файл и разбили его на слова по пробелам\n",
    "with open(filename) as file:\n",
    "    content = file.read() \n",
    "    words = content.split()"
   ]
  },
  {
   "cell_type": "code",
   "execution_count": 4,
   "id": "bf43e221",
   "metadata": {},
   "outputs": [],
   "source": [
    "# очищаем слова от лишних символов\n",
    "for word in words:\n",
    "    purified_word = word\n",
    "    for extra_symbol in extra_symbols:\n",
    "        purified_word = purified_word.replace(extra_symbol, \"\")\n",
    "    purified_words.append(purified_word.lower())"
   ]
  },
  {
   "cell_type": "code",
   "execution_count": 5,
   "id": "8980dc9d",
   "metadata": {},
   "outputs": [],
   "source": [
    "# очищаем слова от пустых строк\n",
    "purified_words = str_list = list(filter(None, purified_words))"
   ]
  },
  {
   "cell_type": "code",
   "execution_count": 6,
   "id": "fb7023a2",
   "metadata": {},
   "outputs": [
    {
     "name": "stdout",
     "output_type": "stream",
     "text": [
      "Всего слов в тексте: 4380\n"
     ]
    }
   ],
   "source": [
    "print(f\"Всего слов в тексте: {len(purified_words)}\")"
   ]
  },
  {
   "cell_type": "code",
   "execution_count": 7,
   "id": "bcbc834d",
   "metadata": {},
   "outputs": [],
   "source": [
    "# убираем дубликаты\n",
    "purified_words = list(set(purified_words))"
   ]
  },
  {
   "cell_type": "code",
   "execution_count": 8,
   "id": "70dffe0c",
   "metadata": {},
   "outputs": [
    {
     "name": "stdout",
     "output_type": "stream",
     "text": [
      "Всего уникальных слов в тексте: 1670\n"
     ]
    }
   ],
   "source": [
    "print(f\"Всего уникальных слов в тексте: {len(purified_words)}\")"
   ]
  },
  {
   "cell_type": "code",
   "execution_count": 9,
   "id": "ed8941ac",
   "metadata": {},
   "outputs": [],
   "source": [
    "# подсчитываем общее количество уникальных слов\n",
    "total_unique_words_count = len(purified_words)"
   ]
  },
  {
   "cell_type": "code",
   "execution_count": 10,
   "id": "435d673b",
   "metadata": {},
   "outputs": [],
   "source": [
    "# подсчитываем сумму длин всех уникальных слов\n",
    "\n",
    "total_words_length = 0\n",
    "for word in purified_words:\n",
    "    total_words_length = total_words_length + len(word)"
   ]
  },
  {
   "cell_type": "code",
   "execution_count": 11,
   "id": "8ad44041",
   "metadata": {},
   "outputs": [],
   "source": [
    "# подсчитываем среднюю длину слов в тексте\n",
    "\n",
    "result = total_words_length / total_unique_words_count"
   ]
  },
  {
   "cell_type": "code",
   "execution_count": 12,
   "id": "6ddb5bc6",
   "metadata": {},
   "outputs": [
    {
     "name": "stdout",
     "output_type": "stream",
     "text": [
      "Средняя длина слов в тексте: 7.2389221556886225\n"
     ]
    }
   ],
   "source": [
    "print(f\"Средняя длина слов в тексте: {result}\")"
   ]
  }
 ],
 "metadata": {
  "kernelspec": {
   "display_name": "Python 3 (ipykernel)",
   "language": "python",
   "name": "python3"
  },
  "language_info": {
   "codemirror_mode": {
    "name": "ipython",
    "version": 3
   },
   "file_extension": ".py",
   "mimetype": "text/x-python",
   "name": "python",
   "nbconvert_exporter": "python",
   "pygments_lexer": "ipython3",
   "version": "3.12.6"
  }
 },
 "nbformat": 4,
 "nbformat_minor": 5
}
